{
 "cells": [
  {
   "cell_type": "code",
   "execution_count": 3,
   "metadata": {},
   "outputs": [
    {
     "name": "stdout",
     "output_type": "stream",
     "text": [
      "300\n",
      "-60\n",
      "-60\n",
      "-45\n"
     ]
    }
   ],
   "source": [
    "x = -420\n",
    "\n",
    "print(x % 360)\n",
    "print( -360 + (x % 360) )\n",
    "print(-420 + 360)\n",
    "\n",
    "degs = -45\n",
    "print(-360 + (degs % 360))"
   ]
  },
  {
   "cell_type": "code",
   "execution_count": 1,
   "metadata": {},
   "outputs": [
    {
     "name": "stderr",
     "output_type": "stream",
     "text": [
      "qt.qpa.plugin: Could not find the Qt platform plugin \"wayland\" in \"\"\n",
      "libGL error: MESA-LOADER: failed to open iris: /usr/lib/dri/iris_dri.so: cannot open shared object file: No such file or directory (search paths /usr/lib/x86_64-linux-gnu/dri:\\$${ORIGIN}/dri:/usr/lib/dri, suffix _dri)\n",
      "libGL error: failed to load driver: iris\n",
      "libGL error: MESA-LOADER: failed to open swrast: /usr/lib/dri/swrast_dri.so: cannot open shared object file: No such file or directory (search paths /usr/lib/x86_64-linux-gnu/dri:\\$${ORIGIN}/dri:/usr/lib/dri, suffix _dri)\n",
      "libGL error: failed to load driver: swrast\n"
     ]
    }
   ],
   "source": [
    "import cv2\n",
    "import numpy as np\n",
    "\n",
    "class Tank:\n",
    "    def __init__(self, cx: int, cy: int, direction: int, player: str, \n",
    "                 color: tuple, color_dark: tuple, width: int = 50, height: int = 80):\n",
    "        self.cx = cx  # Center x-coordinate\n",
    "        self.cy = cy  # Center y-coordinate\n",
    "        self.direction = direction  # Angle in degrees\n",
    "        self.player = player  # Player name\n",
    "        self.color = color  # Color of the tank\n",
    "        self.color_dark = color_dark  # Darker shade for details\n",
    "        self.width = width  # Tank width\n",
    "        self.height = height  # Tank height\n",
    "\n",
    "    def draw(self, image):\n",
    "        # Create the rectangle points centered at (cx, cy)\n",
    "        rect = np.array([\n",
    "            [-self.width // 2, -self.height // 2],  # Top-left\n",
    "            [self.width // 2, -self.height // 2],   # Top-right\n",
    "            [self.width // 2, self.height // 2],    # Bottom-right\n",
    "            [-self.width // 2, self.height // 2]    # Bottom-left\n",
    "        ])\n",
    "        \n",
    "        # Calculate the rotation matrix\n",
    "        angle_rad = np.deg2rad(self.direction)\n",
    "        rotation_matrix = np.array([\n",
    "            [np.cos(angle_rad), -np.sin(angle_rad)],\n",
    "            [np.sin(angle_rad), np.cos(angle_rad)]\n",
    "        ])\n",
    "        \n",
    "        # Apply the rotation to the rectangle points\n",
    "        rotated_rect = np.dot(rect, rotation_matrix)\n",
    "\n",
    "        # Shift the rotated points to the center (cx, cy)\n",
    "        rotated_rect[:, 0] += self.cx\n",
    "        rotated_rect[:, 1] += self.cy\n",
    "        \n",
    "        # Convert to integer points for drawing\n",
    "        pts = rotated_rect.astype(np.int32)\n",
    "        \n",
    "        # Draw the tank (rotated rectangle)\n",
    "        cv2.fillPoly(image, [pts], self.color)\n",
    "        cv2.polylines(image, [pts], isClosed=True, color=self.color_dark, thickness=2)\n",
    "        \n",
    "        \n",
    "window_name = \"tanks\"\n",
    "while True:\n",
    "\n",
    "    # Example usage\n",
    "    image = np.ones((500, 500, 3), dtype=np.uint8)*255\n",
    "    tank = Tank(cx=250, cy=250, direction=60, player=\"Player1\", color=(0, 255, 0), color_dark=(0, 100, 0))\n",
    "    tank.draw(image)\n",
    "\n",
    "    # Example usage\n",
    "    image = np.ones((500, 500, 3), dtype=np.uint8)*255\n",
    "    tank = Tank(cx=100, cy=100, direction=-30, player=\"Player1\", color=(0, 0, 255), color_dark=(0, 0, 200))\n",
    "    tank.draw(image)\n",
    "\n",
    "    # Display the image\n",
    "    cv2.imshow(window_name, image)\n",
    "    \n",
    "    key = cv2.waitKey(0) & 0xFF\n",
    "    if key == ord('q') or cv2.getWindowProperty(window_name, cv2.WND_PROP_VISIBLE) < 1:\n",
    "        break\n",
    "    \n",
    "cv2.destroyAllWindows()"
   ]
  },
  {
   "cell_type": "code",
   "execution_count": 3,
   "metadata": {},
   "outputs": [
    {
     "name": "stdout",
     "output_type": "stream",
     "text": [
      "3.141592653589793 6.283185307179586\n",
      "1.5707963267948966 6.283185307179586\n",
      "0.7853981633974474 6.283185307179586\n",
      "5.497787143782138 6.283185307179586\n"
     ]
    }
   ],
   "source": [
    "import math\n",
    "def deg_to_rad(deg):\n",
    "    rads = (abs(deg) + 90) * math.pi / 180\n",
    "    if rads > 2*math.pi:\n",
    "        rads -= 2*math.pi\n",
    "    return rads\n",
    "\n",
    "print(deg_to_rad(-90), 2*math.pi)\n",
    "print(deg_to_rad(0), 2*math.pi)\n",
    "print(deg_to_rad(-360+45), 2*math.pi)\n",
    "print(deg_to_rad(-180-45), 2*math.pi)"
   ]
  },
  {
   "cell_type": "code",
   "execution_count": 18,
   "metadata": {},
   "outputs": [
    {
     "name": "stdout",
     "output_type": "stream",
     "text": [
      "180 180\n"
     ]
    }
   ],
   "source": [
    "def get_direction(angle, target_angle):\n",
    "    return 1\n",
    "\n",
    "UP = 0\n",
    "LEFT = -90\n",
    "DOWN = -180\n",
    "RIGHT = -270\n",
    "UP_LEFT = -45\n",
    "UP_RIGHT = -315\n",
    "DOWN_LEFT = -135\n",
    "DOWN_RIGHT = -225\n",
    "\n",
    "from_angle, to_angle = DOWN_LEFT, UP_RIGHT\n",
    "\n",
    "clockwise_dist = min(\n",
    "    (to_angle - from_angle) % 360,\n",
    "    ((to_angle-360) - from_angle) % 360\n",
    ")\n",
    "counter_clockwise_dist = min(\n",
    "    (from_angle - to_angle) % 360,\n",
    "    (from_angle - (to_angle-360)) % 360\n",
    ")\n",
    "\n",
    "print(clockwise_dist, counter_clockwise_dist)"
   ]
  }
 ],
 "metadata": {
  "kernelspec": {
   "display_name": "tanks",
   "language": "python",
   "name": "python3"
  },
  "language_info": {
   "codemirror_mode": {
    "name": "ipython",
    "version": 3
   },
   "file_extension": ".py",
   "mimetype": "text/x-python",
   "name": "python",
   "nbconvert_exporter": "python",
   "pygments_lexer": "ipython3",
   "version": "3.12.3"
  }
 },
 "nbformat": 4,
 "nbformat_minor": 2
}
